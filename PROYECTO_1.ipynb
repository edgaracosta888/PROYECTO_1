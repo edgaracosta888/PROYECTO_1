{
 "cells": [
  {
   "cell_type": "markdown",
   "metadata": {},
   "source": [
    "# TAREA 1 INTERPOLACIÓN"
   ]
  },
  {
   "cell_type": "code",
   "execution_count": 2,
   "metadata": {
    "collapsed": false
   },
   "outputs": [],
   "source": [
    "from sympy import *\n",
    "import pandas as pd\n",
    "import numpy as np\n",
    "import matplotlib.pyplot as plt\n",
    "%matplotlib inline\n",
    "import matplotlib\n",
    "matplotlib.use(\"Agg\")"
   ]
  },
  {
   "cell_type": "markdown",
   "metadata": {},
   "source": [
    "## 1.1 Elabórese un programa para calcular su polinomio ortogonal $P_n(x)$ usando las relaciones de recurrencia."
   ]
  },
  {
   "cell_type": "markdown",
   "metadata": {},
   "source": [
    "### Se tomarán los polinómios $J_0(x)$ y $J_1(x)$, donde ($J_i$) serán llamados los polinomios de Jacobi $P_i$\n",
    "### $J_0(x)=1$\n",
    "### $J_1(x)=\\frac{1}{2}[\\alpha-\\beta+(\\alpha+\\beta+2)x]$\n",
    "### y la relación de recurrencia\n",
    "### $a_{1n}J_{n+1}=(a_{2n}+a_{3n}x)J_n(x)-a_{4n}J_{n-1}(x)$, como base para generar los demás polinomios; donde\n",
    "### $a_{1n}=2(n+1)(n+\\alpha+\\beta+1)(2n+\\alpha+\\beta)$\n",
    "### $a_{2n}=(2n+\\alpha+\\beta+1)(\\alpha^2-\\beta^2)$\n",
    "### $a_{3n}=(2n+\\alpha+\\beta)_3 = \\frac{\\Gamma(2n+\\alpha+\\beta+3)}{\\Gamma(2n+\\alpha+\\beta)}$\n",
    "### $a_{4n}=2(n+\\alpha)(n+\\beta)(2n+\\alpha+\\beta+2)$\n",
    "### y se tomará inicialmente por facilidad los valores de $\\alpha=\\beta=0$ pero estos valores se pueden cambiar facilmente en la casilla donde está definida la función JACOBI."
   ]
  },
  {
   "cell_type": "markdown",
   "metadata": {},
   "source": [
    "### Aqui se define la función factorial que se usará para calcular el coeficiente $a_{3n}$ dentro de la función JACOBI.\n",
    "#### Para usar la función JACOBI se debe escribir JACOBI(n) donde n es el grado del polinomio que se desea encontrar."
   ]
  },
  {
   "cell_type": "code",
   "execution_count": 3,
   "metadata": {
    "collapsed": false
   },
   "outputs": [],
   "source": [
    "def FAC(NUM):\n",
    "    fac=1\n",
    "    for i in range (1,NUM):\n",
    "        fac=fac*(i+1)\n",
    "    return fac"
   ]
  },
  {
   "cell_type": "code",
   "execution_count": 4,
   "metadata": {
    "collapsed": false
   },
   "outputs": [],
   "source": [
    "def JACOBI(n):\n",
    "    global J\n",
    "    global x\n",
    "    if n==0:\n",
    "        return 1\n",
    "    else:\n",
    "        if n<0:\n",
    "            return \"n debe ser mayor o igual a cero\"\n",
    "        else:\n",
    "            J = range (0,n+1)\n",
    "            x = symbols(\"x\")\n",
    "            alpha = 0 \n",
    "            beta = 0\n",
    "            J[0] = 1\n",
    "            J[1] = 2*x\n",
    "            a1n = 2*(n+1)*(n+alpha+beta+1)*(2*n+alpha+beta)\n",
    "            a2n = (2*n+alpha+beta+1)*(alpha**2-beta**2)\n",
    "            a3n = FAC(2*n+alpha+beta+2)/FAC(2*n+alpha+beta-1)\n",
    "            a4n = 2*(n+alpha)*(n+beta)*(2*n+alpha+beta+2)\n",
    "            for i in range (2,len(J)):\n",
    "                J[i]=((a2n+a3n*x)*J[i-1]-a4n*J[i-2])/a1n\n",
    "            return J[n]"
   ]
  },
  {
   "cell_type": "code",
   "execution_count": 5,
   "metadata": {
    "collapsed": false
   },
   "outputs": [
    {
     "data": {
      "text/plain": [
       "-17408*x**2/6561 + 1088*x*(17*x*(34*x**2/9 - 8/9)/9 - 16*x/9)/729 - 136*x*(-136*x*(34*x**2/9 - 8/9)/81 + 17*x*(-272*x**2/81 + 17*x*(17*x*(34*x**2/9 - 8/9)/9 - 16*x/9)/9 + 64/81)/9 + 128*x/81)/81 + 17*x*(1088*x*(34*x**2/9 - 8/9)/729 - 136*x*(-272*x**2/81 + 17*x*(17*x*(34*x**2/9 - 8/9)/9 - 16*x/9)/9 + 64/81)/81 + 17*x*(2176*x**2/729 - 136*x*(17*x*(34*x**2/9 - 8/9)/9 - 16*x/9)/81 + 17*x*(-136*x*(34*x**2/9 - 8/9)/81 + 17*x*(-272*x**2/81 + 17*x*(17*x*(34*x**2/9 - 8/9)/9 - 16*x/9)/9 + 64/81)/9 + 128*x/81)/9 - 512/729)/9 - 1024*x/729)/9 + 4096/6561"
      ]
     },
     "execution_count": 5,
     "metadata": {},
     "output_type": "execute_result"
    }
   ],
   "source": [
    "JACOBI(8)"
   ]
  },
  {
   "cell_type": "markdown",
   "metadata": {},
   "source": [
    "## 1.2 Dentro del intervalo de definición escójase ne = 11 nodos equidistantes xe (i), i = 1 a 11 y encuéntrese los valores delpolinomio en estos nodos ye(i), i = 1 a 11."
   ]
  },
  {
   "cell_type": "code",
   "execution_count": 6,
   "metadata": {
    "collapsed": false
   },
   "outputs": [],
   "source": [
    "m1 = 11\n",
    "h1=2./(m1-1)\n",
    "X1=range(0,m1)\n",
    "Y1=range(0,m1)\n",
    "for i in range(0,m1):\n",
    "    X1[i]=-1+i*h1\n",
    "for j in range (0,len(X1)):\n",
    "    Y1[j] = J[len(J)-1].subs({x:X1[j]})"
   ]
  },
  {
   "cell_type": "code",
   "execution_count": 7,
   "metadata": {
    "collapsed": false
   },
   "outputs": [
    {
     "data": {
      "image/png": "[encoded data removed]",
      "text/plain": [
       "<matplotlib.figure.Figure at 0xaa8bdb2c>"
      ]
     },
     "metadata": {},
     "output_type": "display_data"
    }
   ],
   "source": [
    "plt.figure(figsize=(10,5))\n",
    "plt.axis([-1, 1, -2, 5])\n",
    "plt.plot (X1,Y1)\n",
    "plt.show()"
   ]
  },
  {
   "cell_type": "markdown",
   "metadata": {
    "collapsed": false
   },
   "source": [
    "## 1.3 Elabórese 3 programas para calcular los polinomios intepolantes en la base de algoritmos: Lagrange global; segmentarias lineal y parabólica."
   ]
  },
  {
   "cell_type": "markdown",
   "metadata": {
    "collapsed": true
   },
   "source": [
    "# 1.3.1 LAGRANGE"
   ]
  },
  {
   "cell_type": "code",
   "execution_count": 8,
   "metadata": {
    "collapsed": false
   },
   "outputs": [],
   "source": [
    "l1 = range(0,len(X1))\n",
    "for i in range(0,len(l1)):\n",
    "    l1[i]= 1\n",
    "    \n",
    "for i in range (0,len(X1)):\n",
    "    for j in range(0,len(X1)):\n",
    "        if i!=j:\n",
    "            l1[i]=l1[i]*((x-X1[j])/(X1[i]-X1[j]))\n",
    "\n",
    "Px1 = 0\n",
    "for i in range (0,len(l1)):\n",
    "    Px1=Px1+(l1[i]*Y1[i])"
   ]
  },
  {
   "cell_type": "code",
   "execution_count": 9,
   "metadata": {
    "collapsed": true
   },
   "outputs": [],
   "source": [
    "Y2=range(0,m1)\n",
    "for j in range (0,len(X1)):\n",
    "    Y2[j]=Px1.subs({x:X1[j]})"
   ]
  },
  {
   "cell_type": "code",
   "execution_count": 10,
   "metadata": {
    "collapsed": false
   },
   "outputs": [
    {
     "data": {
      "image/png": "[encoded data removed]",
      "text/plain": [
       "<matplotlib.figure.Figure at 0xa9127e8c>"
      ]
     },
     "metadata": {},
     "output_type": "display_data"
    }
   ],
   "source": [
    "plt.figure(figsize=(10,5))\n",
    "plt.axis([-1, 1, -2, 5])\n",
    "plt.plot(X1,Y2)\n",
    "plt.show()"
   ]
  },
  {
   "cell_type": "markdown",
   "metadata": {},
   "source": [
    "# 1.3.2 LINEAL SEGMENTARIA"
   ]
  },
  {
   "cell_type": "code",
   "execution_count": 11,
   "metadata": {
    "collapsed": false
   },
   "outputs": [],
   "source": [
    "S1 = range(0,m1-1)\n",
    "for i in range (0,len(S1)):\n",
    "    S1[i] = Y1[i]+((Y1[i+1]-Y1[i])/(X1[i+1]-X1[i]))*(x-X1[i])"
   ]
  },
  {
   "cell_type": "code",
   "execution_count": 12,
   "metadata": {
    "collapsed": false
   },
   "outputs": [],
   "source": [
    "Y3 = range(0,m1)\n",
    "Y3[m1-1] = S1[m1-2].subs({x:X1[m1-1]})\n",
    "for i in range(0,len(S1)):\n",
    "    for j in range(i,i+1):\n",
    "        Y3[j] = S1[i].subs({x:X1[i]})"
   ]
  },
  {
   "cell_type": "code",
   "execution_count": 13,
   "metadata": {
    "collapsed": false
   },
   "outputs": [
    {
     "data": {
      "image/png": "[encoded data removed]",
      "text/plain": [
       "<matplotlib.figure.Figure at 0xac69adcc>"
      ]
     },
     "metadata": {},
     "output_type": "display_data"
    }
   ],
   "source": [
    "plt.figure(figsize=(10,5))\n",
    "plt.axis([-1, 1, -2, 5])\n",
    "plt.plot(X1,Y3)\n",
    "plt.show()"
   ]
  },
  {
   "cell_type": "markdown",
   "metadata": {},
   "source": [
    "# 1.3.3 CUADRÁTICA SEGMENTARIA"
   ]
  },
  {
   "cell_type": "code",
   "execution_count": 14,
   "metadata": {
    "collapsed": false
   },
   "outputs": [],
   "source": [
    "SC1 = range(0,m1-2)\n",
    "for i in range (0,m1-2):\n",
    "    SC1[i] =Y1[i]+((Y1[i+1]-Y1[i])/(X1[i+1]-X1[i]))*(x-X1[i])+(Y1[i+2]-2*Y1[i+1]+Y1[i])*(x-X1[i])*(x-X1[i+1])/(X1[i+1]-X1[i])**2"
   ]
  },
  {
   "cell_type": "code",
   "execution_count": 15,
   "metadata": {
    "collapsed": false
   },
   "outputs": [],
   "source": [
    "Y3C = range(0,m1)\n",
    "Y3C[0] = SC1[0].subs({x:X1[0]})\n",
    "Y3C[1] = SC1[0].subs({x:X1[1]})\n",
    "Y3C[m1-1] = SC1[m1-3].subs({x:X1[m1-1]})\n",
    "Y3C[m1-2] = SC1[m1-3].subs({x:X1[m1-2]})\n",
    "for i in range(1,len(SC1)):\n",
    "    Y3C[i+1] = SC1[i].subs({x:X1[i+1]})"
   ]
  },
  {
   "cell_type": "code",
   "execution_count": 16,
   "metadata": {
    "collapsed": false
   },
   "outputs": [
    {
     "data": {
      "image/png": "[encoded data removed]",
      "text/plain": [
       "<matplotlib.figure.Figure at 0xa909a8ec>"
      ]
     },
     "metadata": {},
     "output_type": "display_data"
    }
   ],
   "source": [
    "plt.figure(figsize=(10,5))\n",
    "plt.axis([-1, 1, -2, 7])\n",
    "plt.plot(X1,Y3C)\n",
    "plt.show()"
   ]
  },
  {
   "cell_type": "markdown",
   "metadata": {
    "collapsed": false
   },
   "source": [
    "## 1.4 Dentro del intervalo de definición escójase n=200 nodos equidistantes x(i), i=1 a i=200 y encuéntrese los valores del polinomio en estos nodos y (i), i=1 a i=200 mediante de 3 funciones intepolantes y compárese los resultados con los valores exactos."
   ]
  },
  {
   "cell_type": "markdown",
   "metadata": {},
   "source": [
    "# 1.4.1 LAGRANGE"
   ]
  },
  {
   "cell_type": "code",
   "execution_count": 17,
   "metadata": {
    "collapsed": false
   },
   "outputs": [],
   "source": [
    "m2 = 200\n",
    "h2=2./(m2-1)\n",
    "X2=range(0,m2)\n",
    "Y4=range(0,m2)\n",
    "for i in range(0,m2):\n",
    "    X2[i]=-1+i*h2\n",
    "for j in range (0,len(X2)):\n",
    "    Y4[j]=Px1.subs({x:X2[j]})"
   ]
  },
  {
   "cell_type": "code",
   "execution_count": 18,
   "metadata": {
    "collapsed": false
   },
   "outputs": [
    {
     "data": {
      "image/png": "[encoded data removed]",
      "text/plain": [
       "<matplotlib.figure.Figure at 0xa8da3eec>"
      ]
     },
     "metadata": {},
     "output_type": "display_data"
    }
   ],
   "source": [
    "plt.figure(figsize=(10,5))\n",
    "plt.axis([-1, 1, -2, 5])\n",
    "plt.plot(X2,Y4)\n",
    "plt.show()"
   ]
  },
  {
   "cell_type": "markdown",
   "metadata": {},
   "source": [
    "# 1.4.2 LINEAL SEGMENTARIA"
   ]
  },
  {
   "cell_type": "code",
   "execution_count": 19,
   "metadata": {
    "collapsed": false
   },
   "outputs": [],
   "source": [
    "Y5=range(0,m2)\n",
    "for j in range(0,len(Y5)):\n",
    "    Y5[j] = J[len(J)-1].subs({x:X2[j]})"
   ]
  },
  {
   "cell_type": "code",
   "execution_count": 20,
   "metadata": {
    "collapsed": false
   },
   "outputs": [],
   "source": [
    "S2 = range(0,m2-1)\n",
    "for i in range (0,len(S2)):\n",
    "    S2[i] = Y5[i]+((Y5[i+1]-Y5[i])/(X2[i+1]-X2[i]))*(x-X2[i])"
   ]
  },
  {
   "cell_type": "code",
   "execution_count": 21,
   "metadata": {
    "collapsed": true
   },
   "outputs": [],
   "source": [
    "Y6 = range(0,m2)\n",
    "Y6[m2-1] = S2[m2-2].subs({x:X2[m2-1]})\n",
    "for i in range(0,len(S2)):\n",
    "    for j in range(i,i+1):\n",
    "        Y6[j] = S2[i].subs({x:X2[i]})"
   ]
  },
  {
   "cell_type": "code",
   "execution_count": 22,
   "metadata": {
    "collapsed": false
   },
   "outputs": [
    {
     "data": {
      "image/png": "[encoded data removed]",
      "text/plain": [
       "<matplotlib.figure.Figure at 0xa908ed4c>"
      ]
     },
     "metadata": {},
     "output_type": "display_data"
    }
   ],
   "source": [
    "plt.figure(figsize=(10,5))\n",
    "plt.axis([-1, 1, -2, 5])\n",
    "plt.plot(X2,Y6)\n",
    "plt.show()"
   ]
  },
  {
   "cell_type": "markdown",
   "metadata": {},
   "source": [
    "# 1.4.3 CUADRÁTICA SEGMENTARIA\n"
   ]
  },
  {
   "cell_type": "code",
   "execution_count": 23,
   "metadata": {
    "collapsed": true
   },
   "outputs": [],
   "source": [
    "SC2 = range(0,m2-2)\n",
    "for i in range (0,len(SC2)):\n",
    "    SC2[i] =Y5[i]+((Y5[i+1]-Y5[i])/(X2[i+1]-X2[i]))*(x-X2[i])+(Y5[i+2]-2*Y5[i+1]+Y5[i])*(x-X2[i])*(x-X2[i+1])/(X2[i+1]-X2[i])**2"
   ]
  },
  {
   "cell_type": "code",
   "execution_count": 24,
   "metadata": {
    "collapsed": true
   },
   "outputs": [],
   "source": [
    "Y6C = range(0,m2)\n",
    "Y6C[0] = SC2[0].subs({x:X2[0]})\n",
    "Y6C[1] = SC2[0].subs({x:X2[1]})\n",
    "Y6C[m2-2] = SC2[m2-3].subs({x:X2[m2-3]})\n",
    "Y6C[m2-3] = SC2[m2-3].subs({x:X2[m2-3]})\n",
    "for i in range(1,len(SC2)):\n",
    "    Y6C[i+1] = SC2[i].subs({x:X2[i+1]})"
   ]
  },
  {
   "cell_type": "code",
   "execution_count": 25,
   "metadata": {
    "collapsed": false
   },
   "outputs": [
    {
     "data": {
      "image/png": "[encoded data removed]",
      "text/plain": [
       "<matplotlib.figure.Figure at 0xa90a820c>"
      ]
     },
     "metadata": {},
     "output_type": "display_data"
    }
   ],
   "source": [
    "plt.figure(figsize=(10,5))\n",
    "plt.axis([-1, 1, -2, 5])\n",
    "plt.plot(X2,Y6C)\n",
    "plt.show()"
   ]
  },
  {
   "cell_type": "markdown",
   "metadata": {},
   "source": [
    "## valores exactos del polinomio de Jacobi"
   ]
  },
  {
   "cell_type": "code",
   "execution_count": 26,
   "metadata": {
    "collapsed": false
   },
   "outputs": [],
   "source": [
    "YJ=range(0,m2)\n",
    "for i in range (0,len(X2)):\n",
    "    YJ[i]=J[len(J)-1].subs({x:X2[i]})"
   ]
  },
  {
   "cell_type": "markdown",
   "metadata": {},
   "source": [
    "## Comparación con Lagrange\n",
    "Se muestra el valor promediado del error, y el valor del error en cada punto de la malla."
   ]
  },
  {
   "cell_type": "code",
   "execution_count": 50,
   "metadata": {
    "collapsed": false
   },
   "outputs": [
    {
     "data": {
      "text/plain": [
       "(5.08308672930724e-16,\n",
       " [0,\n",
       "  6.21724893790088e-15,\n",
       "  1.50990331349021e-14,\n",
       "  1.06581410364015e-14,\n",
       "  2.22044604925031e-15,\n",
       "  5.55111512312578e-16,\n",
       "  -5.21804821573824e-15,\n",
       "  5.88418203051333e-15,\n",
       "  1.44328993201270e-15,\n",
       "  1.11022302462516e-16,\n",
       "  3.55271367880050e-15,\n",
       "  -1.55431223447522e-15,\n",
       "  0,\n",
       "  -2.22044604925031e-15,\n",
       "  8.65973959207622e-15,\n",
       "  -3.10862446895044e-15,\n",
       "  -2.22044604925031e-16,\n",
       "  -1.99840144432528e-15,\n",
       "  -1.11022302462516e-15,\n",
       "  4.77395900588817e-15,\n",
       "  2.44249065417534e-15,\n",
       "  -6.66133814775094e-16,\n",
       "  1.94289029309402e-15,\n",
       "  1.34614541735800e-15,\n",
       "  -8.74300631892311e-16,\n",
       "  -1.33226762955019e-15,\n",
       "  -2.77555756156289e-16,\n",
       "  -8.32667268468867e-16,\n",
       "  0,\n",
       "  3.33066907387547e-16,\n",
       "  -6.66133814775094e-16,\n",
       "  -4.44089209850063e-16,\n",
       "  -8.88178419700125e-16,\n",
       "  -6.66133814775094e-16,\n",
       "  -1.11022302462516e-15,\n",
       "  2.22044604925031e-16,\n",
       "  -2.22044604925031e-16,\n",
       "  -7.77156117237610e-16,\n",
       "  3.33066907387547e-16,\n",
       "  -1.22124532708767e-15,\n",
       "  -5.55111512312578e-16,\n",
       "  -6.66133814775094e-16,\n",
       "  -7.77156117237610e-16,\n",
       "  0,\n",
       "  -1.66533453693773e-16,\n",
       "  -6.10622663543836e-16,\n",
       "  -1.11022302462516e-16,\n",
       "  -3.88578058618805e-16,\n",
       "  -6.10622663543836e-16,\n",
       "  -4.16333634234434e-17,\n",
       "  -7.63278329429795e-17,\n",
       "  -1.04083408558608e-16,\n",
       "  -4.44089209850063e-16,\n",
       "  -2.22044604925031e-16,\n",
       "  5.55111512312578e-17,\n",
       "  2.22044604925031e-16,\n",
       "  -3.88578058618805e-16,\n",
       "  3.88578058618805e-16,\n",
       "  5.55111512312578e-17,\n",
       "  2.22044604925031e-16,\n",
       "  0,\n",
       "  0,\n",
       "  0,\n",
       "  -1.11022302462516e-16,\n",
       "  -2.22044604925031e-16,\n",
       "  0,\n",
       "  1.11022302462516e-16,\n",
       "  3.33066907387547e-16,\n",
       "  2.22044604925031e-16,\n",
       "  0,\n",
       "  0,\n",
       "  0,\n",
       "  0,\n",
       "  2.22044604925031e-16,\n",
       "  1.11022302462516e-16,\n",
       "  -5.55111512312578e-17,\n",
       "  5.55111512312578e-17,\n",
       "  5.55111512312578e-17,\n",
       "  1.11022302462516e-16,\n",
       "  0,\n",
       "  -5.55111512312578e-17,\n",
       "  0,\n",
       "  -5.55111512312578e-17,\n",
       "  -1.87350135405495e-16,\n",
       "  -2.77555756156289e-17,\n",
       "  -1.11022302462516e-16,\n",
       "  8.32667268468867e-17,\n",
       "  1.11022302462516e-16,\n",
       "  1.66533453693773e-16,\n",
       "  0,\n",
       "  -1.66533453693773e-16,\n",
       "  0,\n",
       "  -3.33066907387547e-16,\n",
       "  -2.22044604925031e-16,\n",
       "  0,\n",
       "  2.22044604925031e-16,\n",
       "  0,\n",
       "  1.11022302462516e-16,\n",
       "  -3.33066907387547e-16,\n",
       "  -1.11022302462516e-16,\n",
       "  -1.11022302462516e-16,\n",
       "  -2.22044604925031e-16,\n",
       "  0,\n",
       "  0,\n",
       "  -2.22044604925031e-16,\n",
       "  0,\n",
       "  0,\n",
       "  -5.55111512312578e-17,\n",
       "  -1.11022302462516e-16,\n",
       "  -5.55111512312578e-17,\n",
       "  -1.11022302462516e-16,\n",
       "  -5.55111512312578e-17,\n",
       "  1.11022302462516e-16,\n",
       "  -1.66533453693773e-16,\n",
       "  -8.32667268468867e-17,\n",
       "  -2.77555756156289e-17,\n",
       "  -2.77555756156289e-16,\n",
       "  0,\n",
       "  -5.55111512312578e-17,\n",
       "  -8.32667268468867e-17,\n",
       "  -1.38777878078145e-16,\n",
       "  0,\n",
       "  -1.66533453693773e-16,\n",
       "  -2.22044604925031e-16,\n",
       "  -1.66533453693773e-16,\n",
       "  -2.22044604925031e-16,\n",
       "  -2.22044604925031e-16,\n",
       "  -1.11022302462516e-16,\n",
       "  -1.11022302462516e-16,\n",
       "  -2.22044604925031e-16,\n",
       "  0,\n",
       "  -1.11022302462516e-16,\n",
       "  0,\n",
       "  -2.22044604925031e-16,\n",
       "  0,\n",
       "  -2.22044604925031e-16,\n",
       "  0,\n",
       "  -2.22044604925031e-16,\n",
       "  -1.11022302462516e-16,\n",
       "  -1.11022302462516e-16,\n",
       "  -3.33066907387547e-16,\n",
       "  1.11022302462516e-16,\n",
       "  1.66533453693773e-16,\n",
       "  3.33066907387547e-16,\n",
       "  0,\n",
       "  1.11022302462516e-16,\n",
       "  0,\n",
       "  -1.11022302462516e-16,\n",
       "  3.05311331771918e-16,\n",
       "  5.41233724504764e-16,\n",
       "  -6.93889390390723e-16,\n",
       "  2.77555756156289e-17,\n",
       "  2.22044604925031e-16,\n",
       "  -2.22044604925031e-16,\n",
       "  -5.55111512312578e-17,\n",
       "  -3.88578058618805e-16,\n",
       "  3.33066907387547e-16,\n",
       "  0,\n",
       "  -6.66133814775094e-16,\n",
       "  3.33066907387547e-16,\n",
       "  2.22044604925031e-16,\n",
       "  2.22044604925031e-16,\n",
       "  1.11022302462516e-16,\n",
       "  6.66133814775094e-16,\n",
       "  5.55111512312578e-16,\n",
       "  -4.44089209850063e-16,\n",
       "  0,\n",
       "  2.22044604925031e-16,\n",
       "  -5.55111512312578e-16,\n",
       "  -6.66133814775094e-16,\n",
       "  7.77156117237610e-16,\n",
       "  -3.33066907387547e-16,\n",
       "  -1.77635683940025e-15,\n",
       "  -1.44328993201270e-15,\n",
       "  -1.77635683940025e-15,\n",
       "  4.16333634234434e-16,\n",
       "  1.91513471747840e-15,\n",
       "  2.60902410786912e-15,\n",
       "  0,\n",
       "  2.22044604925031e-15,\n",
       "  4.44089209850063e-16,\n",
       "  1.33226762955019e-15,\n",
       "  1.33226762955019e-15,\n",
       "  4.44089209850063e-15,\n",
       "  -4.44089209850063e-16,\n",
       "  1.55431223447522e-15,\n",
       "  -1.33226762955019e-15,\n",
       "  -2.22044604925031e-15,\n",
       "  2.22044604925031e-15,\n",
       "  6.43929354282591e-15,\n",
       "  1.88737914186277e-15,\n",
       "  2.66453525910038e-15,\n",
       "  1.42108547152020e-14,\n",
       "  -2.66453525910038e-15,\n",
       "  1.99840144432528e-15,\n",
       "  1.55431223447522e-15,\n",
       "  9.76996261670138e-15,\n",
       "  1.64313007644523e-14,\n",
       "  7.10542735760100e-15,\n",
       "  0])"
      ]
     },
     "execution_count": 50,
     "metadata": {},
     "output_type": "execute_result"
    }
   ],
   "source": [
    "A=range(0,m2)\n",
    "for i in range (0,m2):\n",
    "    A[i]=YJ[i]-Y4[i]\n",
    "epl=0\n",
    "for j in range (0,len(A)):\n",
    "    epl=epl+A[j]\n",
    "epl=epl/len(A)\n",
    "epl,A"
   ]
  },
  {
   "cell_type": "markdown",
   "metadata": {},
   "source": [
    "## Comparación con spline lineal\n",
    "Se muestra el valor promediado del error, y el valor del error en cada punto de la malla."
   ]
  },
  {
   "cell_type": "code",
   "execution_count": 51,
   "metadata": {
    "collapsed": false
   },
   "outputs": [
    {
     "data": {
      "text/plain": [
       "(7.68829444552921e-17,\n",
       " [-1.42108547152020e-14,\n",
       "  0,\n",
       "  7.10542735760100e-15,\n",
       "  -8.88178419700125e-16,\n",
       "  1.33226762955019e-15,\n",
       "  2.66453525910038e-15,\n",
       "  3.55271367880050e-15,\n",
       "  -8.88178419700125e-16,\n",
       "  4.44089209850063e-16,\n",
       "  8.88178419700125e-16,\n",
       "  -8.88178419700125e-16,\n",
       "  0,\n",
       "  0,\n",
       "  0,\n",
       "  2.22044604925031e-16,\n",
       "  0,\n",
       "  -8.88178419700125e-16,\n",
       "  -2.22044604925031e-16,\n",
       "  0,\n",
       "  -2.22044604925031e-16,\n",
       "  6.66133814775094e-16,\n",
       "  4.44089209850063e-16,\n",
       "  5.55111512312578e-16,\n",
       "  -6.66133814775094e-16,\n",
       "  4.44089209850063e-16,\n",
       "  7.77156117237610e-16,\n",
       "  3.33066907387547e-16,\n",
       "  -1.11022302462516e-16,\n",
       "  3.33066907387547e-16,\n",
       "  -3.33066907387547e-16,\n",
       "  0,\n",
       "  -4.44089209850063e-16,\n",
       "  2.22044604925031e-16,\n",
       "  0,\n",
       "  0,\n",
       "  -1.11022302462516e-16,\n",
       "  0,\n",
       "  0,\n",
       "  0,\n",
       "  1.11022302462516e-16,\n",
       "  0,\n",
       "  -1.11022302462516e-16,\n",
       "  -1.11022302462516e-16,\n",
       "  2.22044604925031e-16,\n",
       "  -2.22044604925031e-16,\n",
       "  1.11022302462516e-16,\n",
       "  -1.11022302462516e-16,\n",
       "  1.11022302462516e-16,\n",
       "  1.11022302462516e-16,\n",
       "  1.11022302462516e-16,\n",
       "  1.11022302462516e-16,\n",
       "  -1.11022302462516e-16,\n",
       "  2.22044604925031e-16,\n",
       "  -1.11022302462516e-16,\n",
       "  1.11022302462516e-16,\n",
       "  -5.55111512312578e-17,\n",
       "  0,\n",
       "  -1.66533453693773e-16,\n",
       "  1.11022302462516e-16,\n",
       "  0,\n",
       "  1.11022302462516e-16,\n",
       "  -1.11022302462516e-16,\n",
       "  -1.11022302462516e-16,\n",
       "  1.11022302462516e-16,\n",
       "  0,\n",
       "  0,\n",
       "  0,\n",
       "  0,\n",
       "  0,\n",
       "  0,\n",
       "  0,\n",
       "  0,\n",
       "  0,\n",
       "  0,\n",
       "  5.55111512312578e-17,\n",
       "  -5.55111512312578e-17,\n",
       "  0,\n",
       "  0,\n",
       "  5.55111512312578e-17,\n",
       "  -5.55111512312578e-17,\n",
       "  5.55111512312578e-17,\n",
       "  0,\n",
       "  -2.77555756156289e-17,\n",
       "  5.55111512312578e-17,\n",
       "  2.77555756156289e-17,\n",
       "  0,\n",
       "  -2.77555756156289e-17,\n",
       "  0,\n",
       "  5.55111512312578e-17,\n",
       "  0,\n",
       "  -5.55111512312578e-17,\n",
       "  0,\n",
       "  0,\n",
       "  -1.11022302462516e-16,\n",
       "  0,\n",
       "  0,\n",
       "  0,\n",
       "  0,\n",
       "  0,\n",
       "  0,\n",
       "  0,\n",
       "  0,\n",
       "  0,\n",
       "  0,\n",
       "  0,\n",
       "  0,\n",
       "  0,\n",
       "  0,\n",
       "  0,\n",
       "  -5.55111512312578e-17,\n",
       "  -5.55111512312578e-17,\n",
       "  5.55111512312578e-17,\n",
       "  0,\n",
       "  -2.77555756156289e-17,\n",
       "  0,\n",
       "  -5.55111512312578e-17,\n",
       "  5.55111512312578e-17,\n",
       "  -2.77555756156289e-17,\n",
       "  0,\n",
       "  -2.77555756156289e-17,\n",
       "  -5.55111512312578e-17,\n",
       "  5.55111512312578e-17,\n",
       "  0,\n",
       "  0,\n",
       "  -5.55111512312578e-17,\n",
       "  5.55111512312578e-17,\n",
       "  0,\n",
       "  0,\n",
       "  0,\n",
       "  0,\n",
       "  0,\n",
       "  0,\n",
       "  0,\n",
       "  0,\n",
       "  0,\n",
       "  1.11022302462516e-16,\n",
       "  0,\n",
       "  -1.11022302462516e-16,\n",
       "  -1.11022302462516e-16,\n",
       "  0,\n",
       "  -2.22044604925031e-16,\n",
       "  2.22044604925031e-16,\n",
       "  -1.66533453693773e-16,\n",
       "  0,\n",
       "  0,\n",
       "  -1.11022302462516e-16,\n",
       "  -1.66533453693773e-16,\n",
       "  2.22044604925031e-16,\n",
       "  -1.11022302462516e-16,\n",
       "  1.11022302462516e-16,\n",
       "  1.11022302462516e-16,\n",
       "  1.11022302462516e-16,\n",
       "  1.11022302462516e-16,\n",
       "  -1.11022302462516e-16,\n",
       "  1.11022302462516e-16,\n",
       "  2.22044604925031e-16,\n",
       "  1.11022302462516e-16,\n",
       "  -1.11022302462516e-16,\n",
       "  -1.11022302462516e-16,\n",
       "  0,\n",
       "  1.11022302462516e-16,\n",
       "  0,\n",
       "  0,\n",
       "  0,\n",
       "  0,\n",
       "  0,\n",
       "  1.11022302462516e-16,\n",
       "  -2.22044604925031e-16,\n",
       "  -4.44089209850063e-16,\n",
       "  0,\n",
       "  -3.33066907387547e-16,\n",
       "  -2.22044604925031e-16,\n",
       "  -1.11022302462516e-16,\n",
       "  3.33066907387547e-16,\n",
       "  7.77156117237610e-16,\n",
       "  4.44089209850063e-16,\n",
       "  -8.88178419700125e-16,\n",
       "  5.55111512312578e-16,\n",
       "  4.44089209850063e-16,\n",
       "  6.66133814775094e-16,\n",
       "  -2.22044604925031e-16,\n",
       "  -6.66133814775094e-16,\n",
       "  -4.44089209850063e-16,\n",
       "  0,\n",
       "  0,\n",
       "  0,\n",
       "  0,\n",
       "  -4.44089209850063e-16,\n",
       "  -8.88178419700125e-16,\n",
       "  8.88178419700125e-16,\n",
       "  8.88178419700125e-16,\n",
       "  -8.88178419700125e-16,\n",
       "  2.66453525910038e-15,\n",
       "  -3.55271367880050e-15,\n",
       "  2.66453525910038e-15,\n",
       "  1.33226762955019e-15,\n",
       "  -5.32907051820075e-15,\n",
       "  3.55271367880050e-15,\n",
       "  0,\n",
       "  1.42108547152020e-14])"
      ]
     },
     "execution_count": 51,
     "metadata": {},
     "output_type": "execute_result"
    }
   ],
   "source": [
    "B=range(0,m2)\n",
    "for i in range (0,m2):\n",
    "    B[i]=YJ[i]-Y6[i]\n",
    "eps=0\n",
    "for j in range (0,len(A)):\n",
    "    eps=eps+B[j]\n",
    "eps=eps/len(B)\n",
    "eps,B"
   ]
  },
  {
   "cell_type": "markdown",
   "metadata": {},
   "source": [
    "## Comparación con spline cuadrático\n",
    "Se muestra el valor promediado del error, y el valor del error en cada punto de la malla."
   ]
  },
  {
   "cell_type": "code",
   "execution_count": 52,
   "metadata": {
    "collapsed": false
   },
   "outputs": [
    {
     "data": {
      "text/plain": [
       "(-0.962538495440802,\n",
       " [-1.42108547152020e-14,\n",
       "  -2.84217094304040e-14,\n",
       "  7.10542735760100e-15,\n",
       "  1.33226762955019e-14,\n",
       "  1.33226762955019e-15,\n",
       "  2.66453525910038e-15,\n",
       "  3.55271367880050e-15,\n",
       "  -8.88178419700125e-16,\n",
       "  3.99680288865056e-15,\n",
       "  8.88178419700125e-16,\n",
       "  8.88178419700125e-16,\n",
       "  -8.88178419700125e-16,\n",
       "  -4.44089209850063e-16,\n",
       "  0,\n",
       "  -2.22044604925031e-16,\n",
       "  0,\n",
       "  0,\n",
       "  -2.22044604925031e-16,\n",
       "  0,\n",
       "  -2.22044604925031e-16,\n",
       "  6.66133814775094e-16,\n",
       "  4.44089209850063e-16,\n",
       "  -1.22124532708767e-15,\n",
       "  -6.66133814775094e-16,\n",
       "  -1.33226762955019e-15,\n",
       "  7.77156117237610e-16,\n",
       "  3.33066907387547e-16,\n",
       "  -1.11022302462516e-16,\n",
       "  -5.55111512312578e-16,\n",
       "  5.55111512312578e-16,\n",
       "  -8.88178419700125e-16,\n",
       "  4.44089209850063e-16,\n",
       "  -2.22044604925031e-16,\n",
       "  2.22044604925031e-16,\n",
       "  0,\n",
       "  0,\n",
       "  0,\n",
       "  0,\n",
       "  0,\n",
       "  -3.33066907387547e-16,\n",
       "  0,\n",
       "  -1.11022302462516e-16,\n",
       "  -1.11022302462516e-16,\n",
       "  -2.22044604925031e-16,\n",
       "  2.22044604925031e-16,\n",
       "  1.11022302462516e-16,\n",
       "  -1.11022302462516e-16,\n",
       "  1.11022302462516e-16,\n",
       "  -3.33066907387547e-16,\n",
       "  5.55111512312578e-16,\n",
       "  1.11022302462516e-16,\n",
       "  -1.11022302462516e-16,\n",
       "  2.22044604925031e-16,\n",
       "  3.33066907387547e-16,\n",
       "  1.11022302462516e-16,\n",
       "  -5.55111512312578e-17,\n",
       "  0,\n",
       "  2.77555756156289e-16,\n",
       "  -3.33066907387547e-16,\n",
       "  2.22044604925031e-16,\n",
       "  -1.11022302462516e-16,\n",
       "  1.11022302462516e-16,\n",
       "  -1.11022302462516e-16,\n",
       "  -1.11022302462516e-16,\n",
       "  1.11022302462516e-16,\n",
       "  0,\n",
       "  0,\n",
       "  0,\n",
       "  0,\n",
       "  0,\n",
       "  0,\n",
       "  0,\n",
       "  0,\n",
       "  -1.11022302462516e-16,\n",
       "  -5.55111512312578e-17,\n",
       "  -5.55111512312578e-17,\n",
       "  0,\n",
       "  -1.11022302462516e-16,\n",
       "  1.66533453693773e-16,\n",
       "  -5.55111512312578e-17,\n",
       "  -1.66533453693773e-16,\n",
       "  0,\n",
       "  -2.77555756156289e-17,\n",
       "  5.55111512312578e-17,\n",
       "  2.77555756156289e-17,\n",
       "  0,\n",
       "  -2.77555756156289e-17,\n",
       "  0,\n",
       "  -5.55111512312578e-17,\n",
       "  5.55111512312578e-17,\n",
       "  0,\n",
       "  -5.55111512312578e-17,\n",
       "  0,\n",
       "  0,\n",
       "  -1.11022302462516e-16,\n",
       "  0,\n",
       "  0,\n",
       "  0,\n",
       "  0,\n",
       "  0,\n",
       "  0,\n",
       "  0,\n",
       "  0,\n",
       "  0,\n",
       "  0,\n",
       "  0,\n",
       "  0,\n",
       "  0,\n",
       "  0,\n",
       "  0,\n",
       "  -5.55111512312578e-17,\n",
       "  -5.55111512312578e-17,\n",
       "  1.11022302462516e-16,\n",
       "  -2.77555756156289e-17,\n",
       "  0,\n",
       "  -5.55111512312578e-17,\n",
       "  -5.55111512312578e-17,\n",
       "  -2.77555756156289e-17,\n",
       "  0,\n",
       "  -1.38777878078145e-16,\n",
       "  5.55111512312578e-17,\n",
       "  -1.66533453693773e-16,\n",
       "  -1.11022302462516e-16,\n",
       "  1.11022302462516e-16,\n",
       "  -5.55111512312578e-17,\n",
       "  5.55111512312578e-17,\n",
       "  0,\n",
       "  0,\n",
       "  0,\n",
       "  0,\n",
       "  0,\n",
       "  0,\n",
       "  0,\n",
       "  0,\n",
       "  0,\n",
       "  0,\n",
       "  1.11022302462516e-16,\n",
       "  0,\n",
       "  -1.11022302462516e-16,\n",
       "  -2.22044604925031e-16,\n",
       "  0,\n",
       "  -2.22044604925031e-16,\n",
       "  2.77555756156289e-16,\n",
       "  -4.44089209850063e-16,\n",
       "  0,\n",
       "  -1.11022302462516e-16,\n",
       "  -1.66533453693773e-16,\n",
       "  -2.22044604925031e-16,\n",
       "  -1.11022302462516e-16,\n",
       "  1.11022302462516e-16,\n",
       "  1.11022302462516e-16,\n",
       "  -3.33066907387547e-16,\n",
       "  -3.33066907387547e-16,\n",
       "  -1.11022302462516e-16,\n",
       "  1.11022302462516e-16,\n",
       "  -2.22044604925031e-16,\n",
       "  1.11022302462516e-16,\n",
       "  -1.11022302462516e-16,\n",
       "  -1.11022302462516e-16,\n",
       "  0,\n",
       "  -3.33066907387547e-16,\n",
       "  2.22044604925031e-16,\n",
       "  0,\n",
       "  0,\n",
       "  -1.11022302462516e-16,\n",
       "  0,\n",
       "  -1.11022302462516e-16,\n",
       "  2.22044604925031e-16,\n",
       "  -4.44089209850063e-16,\n",
       "  -8.88178419700125e-16,\n",
       "  5.55111512312578e-16,\n",
       "  -2.22044604925031e-16,\n",
       "  -1.11022302462516e-16,\n",
       "  3.33066907387547e-16,\n",
       "  7.77156117237610e-16,\n",
       "  4.44089209850063e-16,\n",
       "  8.88178419700125e-16,\n",
       "  -1.22124532708767e-15,\n",
       "  2.22044604925031e-15,\n",
       "  6.66133814775094e-16,\n",
       "  -2.22044604925031e-16,\n",
       "  -6.66133814775094e-16,\n",
       "  -4.44089209850063e-16,\n",
       "  8.88178419700125e-16,\n",
       "  0,\n",
       "  2.22044604925031e-16,\n",
       "  -2.22044604925031e-16,\n",
       "  0,\n",
       "  0,\n",
       "  -8.88178419700125e-16,\n",
       "  8.88178419700125e-16,\n",
       "  -8.88178419700125e-16,\n",
       "  2.66453525910038e-15,\n",
       "  3.55271367880050e-15,\n",
       "  -4.44089209850063e-15,\n",
       "  1.33226762955019e-15,\n",
       "  -5.32907051820075e-15,\n",
       "  3.55271367880050e-15,\n",
       "  0,\n",
       "  -192.507699088161])"
      ]
     },
     "execution_count": 52,
     "metadata": {},
     "output_type": "execute_result"
    }
   ],
   "source": [
    "BC=range(0,m2)\n",
    "for i in range (0,m2):\n",
    "    BC[i]=YJ[i]-Y6C[i]\n",
    "eps=0\n",
    "for j in range (0,len(A)):\n",
    "    eps=eps+BC[j]\n",
    "eps=eps/len(BC)\n",
    "eps,BC"
   ]
  },
  {
   "cell_type": "markdown",
   "metadata": {},
   "source": [
    "# 1.5. Introduzca los errores aleatorios de 1%en los valores del polinomio ye (i) = ye (i) + 0.01* random, i = 1 a i = 11 y con estos nuevos valores realícese la tarea 1.4"
   ]
  },
  {
   "cell_type": "code",
   "execution_count": 53,
   "metadata": {
    "collapsed": false
   },
   "outputs": [],
   "source": [
    "E0=0.1\n",
    "E=E0*np.random.rand(len(X1))\n",
    "\n",
    "Ye=range(0,len(Y1))\n",
    "for i in range(0,len(Ye)):\n",
    "    Ye[i]=Y1[i]+E[i]"
   ]
  },
  {
   "cell_type": "markdown",
   "metadata": {},
   "source": [
    "## 1.5.1 se construye de nuevo el interpolador de Lagrange para estos nuevos valores del polinomio de Jacobi con error del 1%"
   ]
  },
  {
   "cell_type": "code",
   "execution_count": 54,
   "metadata": {
    "collapsed": true
   },
   "outputs": [],
   "source": [
    "l2 = range(0,len(X1))\n",
    "for i in range(0,len(l2)):\n",
    "    l2[i]= 1\n",
    "    \n",
    "for i in range (0,len(X1)):\n",
    "    for j in range(0,len(X1)):\n",
    "        if i!=j:\n",
    "            l2[i]=l2[i]*((x-X1[j])/(X1[i]-X1[j]))\n",
    "\n",
    "Px2 = 0\n",
    "for i in range (0,len(l2)):\n",
    "    Px2=Px2+(l2[i]*Ye[i])"
   ]
  },
  {
   "cell_type": "code",
   "execution_count": 55,
   "metadata": {
    "collapsed": true
   },
   "outputs": [],
   "source": [
    "Y4e=range(0,m2)\n",
    "for j in range (0,len(X2)):\n",
    "    Y4e[j]=Px2.subs({x:X2[j]})"
   ]
  },
  {
   "cell_type": "code",
   "execution_count": 56,
   "metadata": {
    "collapsed": false
   },
   "outputs": [
    {
     "data": {
      "image/png": "[encoded data removed]",
      "text/plain": [
       "<matplotlib.figure.Figure at 0xa8bc470c>"
      ]
     },
     "metadata": {},
     "output_type": "display_data"
    }
   ],
   "source": [
    "plt.figure(figsize=(10,5))\n",
    "plt.axis([-1, 1, -2, 5])\n",
    "plt.plot(X2,Y4e)\n",
    "plt.show()"
   ]
  },
  {
   "cell_type": "markdown",
   "metadata": {},
   "source": [
    "## 1.5.2 se construye de nuevo el interpolador segmentario lineal para estos nuevos valores del polinomio de Jacobi con error del 1%"
   ]
  },
  {
   "cell_type": "code",
   "execution_count": 34,
   "metadata": {
    "collapsed": true
   },
   "outputs": [],
   "source": [
    "E0=0.1\n",
    "E=E0*np.random.rand(len(X2))\n",
    "\n",
    "Ye2=range(0,len(YJ))\n",
    "for i in range(0,len(Ye2)):\n",
    "    Ye2[i]=YJ[i]+E[i]"
   ]
  },
  {
   "cell_type": "code",
   "execution_count": 35,
   "metadata": {
    "collapsed": true
   },
   "outputs": [],
   "source": [
    "S3 = range(0,m2-1)\n",
    "for i in range (0,len(S3)):\n",
    "    S3[i] = Ye2[i]+((Ye2[i+1]-Ye2[i])/(X2[i+1]-X2[i]))*(x-X2[i])"
   ]
  },
  {
   "cell_type": "code",
   "execution_count": 36,
   "metadata": {
    "collapsed": false
   },
   "outputs": [],
   "source": [
    "Y6e = range(0,m2)\n",
    "Y6e[m2-1] = S3[m2-2].subs({x:X2[m2-1]})\n",
    "for i in range(0,len(S3)):\n",
    "    for j in range(i,i+1):\n",
    "        Y6e[j] = S3[i].subs({x:X2[i]})"
   ]
  },
  {
   "cell_type": "code",
   "execution_count": 37,
   "metadata": {
    "collapsed": false
   },
   "outputs": [
    {
     "data": {
      "image/png": "[encoded data removed]",
      "text/plain": [
       "<matplotlib.figure.Figure at 0xac66620c>"
      ]
     },
     "metadata": {},
     "output_type": "display_data"
    }
   ],
   "source": [
    "plt.figure(figsize=(10,5))\n",
    "plt.axis([-1, 1, -2, 5])\n",
    "plt.plot(X2,Y6e)\n",
    "plt.show()"
   ]
  },
  {
   "cell_type": "markdown",
   "metadata": {},
   "source": [
    "## 1.5.3 se construye de nuevo el interpolador segmentario cuadrático para estos nuevos valores del polinomio de Jacobi con error del 1%"
   ]
  },
  {
   "cell_type": "code",
   "execution_count": 38,
   "metadata": {
    "collapsed": true
   },
   "outputs": [],
   "source": [
    "SC3 = range(0,m2-2)\n",
    "for i in range (0,len(SC3)):\n",
    "    SC3[i] =Ye2[i]+((Ye2[i+1]-Ye2[i])/(X2[i+1]-X2[i]))*(x-X2[i])+(Ye2[i+2]-2*Ye2[i+1]+Ye2[i])*(x-X2[i])*(x-X2[i+1])/(X2[i+1]-X2[i])**2"
   ]
  },
  {
   "cell_type": "code",
   "execution_count": 39,
   "metadata": {
    "collapsed": true
   },
   "outputs": [],
   "source": [
    "Y6Ce = range(0,m2)\n",
    "Y6Ce[0] = SC3[0].subs({x:X2[0]})\n",
    "Y6Ce[1] = SC3[0].subs({x:X2[1]})\n",
    "Y6Ce[m2-2] = SC3[m2-3].subs({x:X2[m2-3]})\n",
    "Y6Ce[m2-3] = SC3[m2-3].subs({x:X2[m2-3]})\n",
    "for i in range(1,len(SC2)):\n",
    "    Y6Ce[i+1] = SC3[i].subs({x:X2[i+1]})"
   ]
  },
  {
   "cell_type": "code",
   "execution_count": 40,
   "metadata": {
    "collapsed": false
   },
   "outputs": [
    {
     "data": {
      "image/png": "[encoded data removed]",
      "text/plain": [
       "<matplotlib.figure.Figure at 0xa90cd4cc>"
      ]
     },
     "metadata": {},
     "output_type": "display_data"
    }
   ],
   "source": [
    "plt.figure(figsize=(10,5))\n",
    "plt.axis([-1, 1, -2, 5])\n",
    "plt.plot(X2,Y6Ce)\n",
    "plt.show()"
   ]
  },
  {
   "cell_type": "markdown",
   "metadata": {},
   "source": [
    "## Comparación con Lagrange\n",
    "Se comparan los valores exactos del polinomio de Jacobi con los valores de la interpolacion de lagrange con errores aleatorios del 1% y se muestra el valor promediado del error, y el valor del error en cada punto de la malla."
   ]
  },
  {
   "cell_type": "code",
   "execution_count": 41,
   "metadata": {
    "collapsed": false
   },
   "outputs": [
    {
     "data": {
      "text/plain": [
       "(-0.0543589283665717,\n",
       " [-0.0754670810622295,\n",
       "  -0.114168374101181,\n",
       "  -0.142844227119189,\n",
       "  -0.163073832205035,\n",
       "  -0.176259848500317,\n",
       "  -0.183643061309317,\n",
       "  -0.186316127588345,\n",
       "  -0.185236449864082,\n",
       "  -0.181238219268510,\n",
       "  -0.175043667043208,\n",
       "  -0.167273562559842,\n",
       "  -0.158456994623835,\n",
       "  -0.149040471576351,\n",
       "  -0.139396374484512,\n",
       "  -0.129830796510713,\n",
       "  -0.120590800379869,\n",
       "  -0.111871124716435,\n",
       "  -0.103820368903077,\n",
       "  -0.0965466850168050,\n",
       "  -0.0901230043290053,\n",
       "  -0.0845918248103095,\n",
       "  -0.0799695850607967,\n",
       "  -0.0762506490900498,\n",
       "  -0.0734109253993778,\n",
       "  -0.0714111428703416,\n",
       "  -0.0701998050391421,\n",
       "  -0.0697158434349262,\n",
       "  -0.0698909897817057,\n",
       "  -0.0706518860078774,\n",
       "  -0.0719219501741571,\n",
       "  -0.0736230156195873,\n",
       "  -0.0756767598362020,\n",
       "  -0.0780059388153566,\n",
       "  -0.0805354418625303,\n",
       "  -0.0831931811523484,\n",
       "  -0.0859108295912163,\n",
       "  -0.0886244198712229,\n",
       "  -0.0912748169354071,\n",
       "  -0.0938080754309852,\n",
       "  -0.0961756931032746,\n",
       "  -0.0983347704786213,\n",
       "  -0.100248086599474,\n",
       "  -0.101884100008283,\n",
       "  -0.103216883629226,\n",
       "  -0.104226001667326,\n",
       "  -0.104896336133138,\n",
       "  -0.105217870107667,\n",
       "  -0.105185434386078,\n",
       "  -0.104798423679970,\n",
       "  -0.104060488116110,\n",
       "  -0.102979205344389,\n",
       "  -0.101565738158984,\n",
       "  -0.0998344821441301,\n",
       "  -0.0978027074791565,\n",
       "  -0.0954901986763119,\n",
       "  -0.0929188956790578,\n",
       "  -0.0901125394177525,\n",
       "  -0.0870963246036333,\n",
       "  -0.0838965622404996,\n",
       "  -0.0805403540461930,\n",
       "  -0.0770552807026658,\n",
       "  -0.0734691055937361,\n",
       "  -0.0698094954433773,\n",
       "  -0.0661037590342565,\n",
       "  -0.0623786049659337,\n",
       "  -0.0586599192044552,\n",
       "  -0.0549725629796396,\n",
       "  -0.0513401914029973,\n",
       "  -0.0477850930076169,\n",
       "  -0.0443280502511810,\n",
       "  -0.0409882208743797,\n",
       "  -0.0377830398689682,\n",
       "  -0.0347281416823885,\n",
       "  -0.0318373021689088,\n",
       "  -0.0291223996904106,\n",
       "  -0.0265933946729179,\n",
       "  -0.0242583268375451,\n",
       "  -0.0221233292463575,\n",
       "  -0.0201926582345162,\n",
       "  -0.0184687382396553,\n",
       "  -0.0169522204875125,\n",
       "  -0.0156420544490822,\n",
       "  -0.0145355709487271,\n",
       "  -0.0136285757744982,\n",
       "  -0.0129154526210937,\n",
       "  -0.0123892741821607,\n",
       "  -0.0120419202017405,\n",
       "  -0.0118642012942988,\n",
       "  -0.0118459873486955,\n",
       "  -0.0119763393433622,\n",
       "  -0.0122436434175865,\n",
       "  -0.0126357460668930,\n",
       "  -0.0131400893587647,\n",
       "  -0.0137438450981138,\n",
       "  -0.0144340469096970,\n",
       "  -0.0151977192468156,\n",
       "  -0.0160220023818501,\n",
       "  -0.0168942724842238,\n",
       "  -0.0178022559449144,\n",
       "  -0.0187341371634792,\n",
       "  -0.0196786590733191,\n",
       "  -0.0206252157434345,\n",
       "  -0.0215639364598379,\n",
       "  -0.0224857607569081,\n",
       "  -0.0233825039379184,\n",
       "  -0.0242469126945940,\n",
       "  -0.0250727105074606,\n",
       "  -0.0258546325817443,\n",
       "  -0.0265884501473606,\n",
       "  -0.0272709840258296,\n",
       "  -0.0279001074414778,\n",
       "  -0.0284747381288009,\n",
       "  -0.0289948198620444,\n",
       "  -0.0294612936066741,\n",
       "  -0.0298760585651606,\n",
       "  -0.0302419234611296,\n",
       "  -0.0305625484761465,\n",
       "  -0.0308423783219380,\n",
       "  -0.0310865669974581,\n",
       "  -0.0313008948445449,\n",
       "  -0.0314916785777904,\n",
       "  -0.0316656750233216,\n",
       "  -0.0318299793572269,\n",
       "  -0.0319919186870697,\n",
       "  -0.0321589418690509,\n",
       "  -0.0323385064986120,\n",
       "  -0.0325379640533724,\n",
       "  -0.0327644442039663,\n",
       "  -0.0330247393403194,\n",
       "  -0.0333251903879238,\n",
       "  -0.0336715750104283,\n",
       "  -0.0340689993111160,\n",
       "  -0.0345217941563035,\n",
       "  -0.0350334172480801,\n",
       "  -0.0356063620718650,\n",
       "  -0.0362420748357090,\n",
       "  -0.0369408805027962,\n",
       "  -0.0377019189960200,\n",
       "  -0.0385230926234378,\n",
       "  -0.0394010257356675,\n",
       "  -0.0403310375805399,\n",
       "  -0.0413071292663234,\n",
       "  -0.0423219856823074,\n",
       "  -0.0433669931541827,\n",
       "  -0.0444322735312476,\n",
       "  -0.0455067353126839,\n",
       "  -0.0465781423207409,\n",
       "  -0.0476332003193576,\n",
       "  -0.0486576618572681,\n",
       "  -0.0496364494846926,\n",
       "  -0.0505537973520432,\n",
       "  -0.0513934110474205,\n",
       "  -0.0521386453667360,\n",
       "  -0.0527726995357788,\n",
       "  -0.0532788292172697,\n",
       "  -0.0536405744375166,\n",
       "  -0.0538420023564934,\n",
       "  -0.0538679635817715,\n",
       "  -0.0537043604903384,\n",
       "  -0.0533384257728514,\n",
       "  -0.0527590091518306,\n",
       "  -0.0519568699485448,\n",
       "  -0.0509249728826061,\n",
       "  -0.0496587841832061,\n",
       "  -0.0481565647713154,\n",
       "  -0.0464196569377044,\n",
       "  -0.0444527605920797,\n",
       "  -0.0422641947936615,\n",
       "  -0.0398661398929060,\n",
       "  -0.0372748552175255,\n",
       "  -0.0345108668231991,\n",
       "  -0.0315991194000984,\n",
       "  -0.0285690859803488,\n",
       "  -0.0254548286285410,\n",
       "  -0.0222950028170142,\n",
       "  -0.0191327976897162,\n",
       "  -0.0160158039027137,\n",
       "  -0.0129958001954293,\n",
       "  -0.0101284492944567,\n",
       "  -0.00747289318074296,\n",
       "  -0.00509123716108029,\n",
       "  -0.00304791157552009,\n",
       "  -0.00140889934387767,\n",
       "  -0.000240816905844099,\n",
       "  0.000390164559108008,\n",
       "  0.000419571434784771,\n",
       "  -0.000213931993737315,\n",
       "  -0.00156689992465497,\n",
       "  -0.00368924215286937,\n",
       "  -0.00662212514560689,\n",
       "  -0.0103956195190938,\n",
       "  -0.0150260755385602,\n",
       "  -0.0205132074253144,\n",
       "  -0.0268368663931327,\n",
       "  -0.0339534814521282,\n",
       "  -0.0417921461117137,\n",
       "  -0.0502503281828646,\n",
       "  -0.0591891789267769,\n",
       "  -0.0684284168184508,\n",
       "  -0.0777407601918627])"
      ]
     },
     "execution_count": 41,
     "metadata": {},
     "output_type": "execute_result"
    }
   ],
   "source": [
    "Ae=range(0,m2)\n",
    "for i in range (0,m2):\n",
    "    Ae[i]=YJ[i]-Y4e[i]\n",
    "epl=0\n",
    "for j in range (0,len(A)):\n",
    "    epl=epl+Ae[j]\n",
    "epl=epl/len(Ae)\n",
    "epl,Ae"
   ]
  },
  {
   "cell_type": "markdown",
   "metadata": {},
   "source": [
    "## Comparación con spline lineal\n",
    "Se comparan los valores exactos del polinomio de Jacobi con los valores de la interpolacion lineal con errores aleatorios del 1% y se muestra el valor promediado del error, y el valor del error en cada punto de la malla."
   ]
  },
  {
   "cell_type": "code",
   "execution_count": 42,
   "metadata": {
    "collapsed": false
   },
   "outputs": [
    {
     "data": {
      "text/plain": [
       "(-0.0487974580924449,\n",
       " [-0.0638552914231099,\n",
       "  -0.0235244318779593,\n",
       "  -0.0452296873076463,\n",
       "  -0.0175899706206346,\n",
       "  -0.0122802758083425,\n",
       "  -0.0980461794453165,\n",
       "  -0.0617786284070085,\n",
       "  -0.0291972282361721,\n",
       "  -0.00958815857549267,\n",
       "  -0.0724820719340959,\n",
       "  -0.0390960841111889,\n",
       "  -0.0384555563134272,\n",
       "  -0.00400277630689816,\n",
       "  -0.0577422801282612,\n",
       "  -0.0314140225978654,\n",
       "  -0.0485224607249739,\n",
       "  -0.0574918628590417,\n",
       "  -0.00171090679169184,\n",
       "  -0.0713486176215525,\n",
       "  -0.0141567589533838,\n",
       "  -0.00700749016345026,\n",
       "  -0.0507476916002214,\n",
       "  -0.0968912451229252,\n",
       "  -0.0513241652959013,\n",
       "  -0.0192160379457120,\n",
       "  -0.0495846776280181,\n",
       "  -0.0361986501225818,\n",
       "  -0.0663999503569125,\n",
       "  -0.00332270993034067,\n",
       "  -0.00787064102059210,\n",
       "  -0.0904762397756740,\n",
       "  -0.0146597531890555,\n",
       "  -0.0255018432229235,\n",
       "  -0.0466407178869452,\n",
       "  -0.0683677623917118,\n",
       "  -0.0450207677447750,\n",
       "  -0.00115357230132629,\n",
       "  -0.0945189360575061,\n",
       "  -0.0355742632940995,\n",
       "  -0.0595798957505330,\n",
       "  -0.0623843944155520,\n",
       "  -0.00241594645992438,\n",
       "  -0.0239905450447339,\n",
       "  -0.0227036578366135,\n",
       "  -0.0597999241979716,\n",
       "  -0.0116543955945776,\n",
       "  -0.0895054199021385,\n",
       "  -0.0800312938840498,\n",
       "  -0.0511860809507815,\n",
       "  -0.0664507545054137,\n",
       "  -0.00523314565997912,\n",
       "  -0.0347294912085739,\n",
       "  -0.0512585354376467,\n",
       "  -0.0198734501641421,\n",
       "  -0.0348092648519497,\n",
       "  -0.0247220695118369,\n",
       "  -0.0192198995956490,\n",
       "  -0.0314527664654662,\n",
       "  -0.00323453716771793,\n",
       "  -0.0808767052150401,\n",
       "  -0.0203104849539825,\n",
       "  -0.0371548769649512,\n",
       "  -0.0931953103031240,\n",
       "  -0.0524528789450708,\n",
       "  -0.0593127041017674,\n",
       "  -0.0905564541624353,\n",
       "  -0.0291909529831322,\n",
       "  -0.00416607034581373,\n",
       "  -0.0689855304591167,\n",
       "  -0.0215297178796732,\n",
       "  -0.0848135220633901,\n",
       "  -0.0132912790681609,\n",
       "  -0.00205187267337847,\n",
       "  -0.0536198279582775,\n",
       "  -0.0592128651024010,\n",
       "  -0.00422011323312771,\n",
       "  -0.0777317279281284,\n",
       "  -0.0831107588859477,\n",
       "  -0.0446270081983026,\n",
       "  -0.0518902799936026,\n",
       "  -0.0506702148141955,\n",
       "  -0.0150121843110940,\n",
       "  -0.0627861636531230,\n",
       "  -0.0268655552922966,\n",
       "  -0.0656932227033410,\n",
       "  -0.0336903845687607,\n",
       "  -0.0236815381052849,\n",
       "  -0.0595817007010168,\n",
       "  -0.0422653290073171,\n",
       "  -0.0692979193286106,\n",
       "  -0.0696824688194414,\n",
       "  -0.0726214504531008,\n",
       "  -0.0530815646279635,\n",
       "  -0.00282224366749917,\n",
       "  -0.0848999136453145,\n",
       "  -0.0305466325578904,\n",
       "  -0.00933347326306566,\n",
       "  -0.0273438155389617,\n",
       "  -0.0537807963492426,\n",
       "  -0.0870325633477724,\n",
       "  -0.0772993322754795,\n",
       "  -0.0984286218052173,\n",
       "  -0.0211121539449135,\n",
       "  -0.0406345522354261,\n",
       "  -0.0933713736631457,\n",
       "  -0.0280212883046903,\n",
       "  -0.0284138828286874,\n",
       "  -0.0459398475999392,\n",
       "  -0.0613240208458064,\n",
       "  -0.0661172281072482,\n",
       "  -0.0205212566046820,\n",
       "  -0.0960105822515084,\n",
       "  -0.0817154091023922,\n",
       "  -0.0668537077072078,\n",
       "  -0.0431275313415059,\n",
       "  -0.0973987539404810,\n",
       "  -0.0600435932869575,\n",
       "  -0.0281382149131623,\n",
       "  -0.0347879474795290,\n",
       "  -0.0557654951042891,\n",
       "  -0.0102187037798025,\n",
       "  -0.0630586566834433,\n",
       "  -0.0696507045419249,\n",
       "  -0.0526555493656125,\n",
       "  -0.0319233560967624,\n",
       "  -0.0410807657537310,\n",
       "  -0.00725386679635387,\n",
       "  -0.0616268469916967,\n",
       "  -0.0514359817914698,\n",
       "  -0.0510654307387122,\n",
       "  -0.00983613504881475,\n",
       "  -0.0721299491968117,\n",
       "  -0.0811826661657716,\n",
       "  -0.0935728350206523,\n",
       "  -0.0177451425532180,\n",
       "  -0.0824628067660623,\n",
       "  -0.0233089895191805,\n",
       "  -0.0341526646832696,\n",
       "  -0.000579357415624648,\n",
       "  -0.0132723933606866,\n",
       "  -0.0753246361971598,\n",
       "  -0.0400575324345496,\n",
       "  -0.0847672277777518,\n",
       "  -0.00892303171318432,\n",
       "  -0.0795961486303218,\n",
       "  -0.0737077178159341,\n",
       "  -0.0846840202807536,\n",
       "  -0.0208731709864101,\n",
       "  -0.00903877009592835,\n",
       "  -0.0401907982938251,\n",
       "  -0.0841952611727933,\n",
       "  -0.0944740200222753,\n",
       "  -0.0115737547840039,\n",
       "  -0.0947647008540413,\n",
       "  -0.0340919780120433,\n",
       "  -0.0702442690498721,\n",
       "  -0.0361908103509149,\n",
       "  -0.00222047533125347,\n",
       "  -0.0334256471178206,\n",
       "  -0.0962330069854150,\n",
       "  -0.0785674725705715,\n",
       "  -0.0162942712584691,\n",
       "  -0.0932377588507952,\n",
       "  -0.0926967760240420,\n",
       "  -0.0170583255781841,\n",
       "  -0.0600597284696361,\n",
       "  -0.0823754347200260,\n",
       "  -0.0181441133059447,\n",
       "  -0.0916941954437278,\n",
       "  -0.0191005058000004,\n",
       "  -0.0867698105105864,\n",
       "  -0.0975287929465012,\n",
       "  -0.0906212962786715,\n",
       "  -0.0170104182425727,\n",
       "  -0.0758955966281462,\n",
       "  -0.0866244846375763,\n",
       "  -0.0899261331535568,\n",
       "  -0.0492196140541074,\n",
       "  -0.0313850310963741,\n",
       "  -0.0868550636767733,\n",
       "  -0.0978699644641792,\n",
       "  -0.00242678928000450,\n",
       "  -0.0572646941419550,\n",
       "  -0.0110675635929987,\n",
       "  -0.0203012862885568,\n",
       "  -0.0711669981944147,\n",
       "  -0.00552392641886534,\n",
       "  -0.00854765813874492,\n",
       "  -0.0716858648112142,\n",
       "  -0.0865494705402083,\n",
       "  -0.0919544036533102,\n",
       "  -0.00552565439083086,\n",
       "  -0.0453216905343696,\n",
       "  -0.0750757531638193,\n",
       "  -0.0863245837614217,\n",
       "  -0.0744073299666170,\n",
       "  -0.0466495277279133,\n",
       "  -0.0122624617299856,\n",
       "  -0.0906731531353273,\n",
       "  -0.0947975379157668])"
      ]
     },
     "execution_count": 42,
     "metadata": {},
     "output_type": "execute_result"
    }
   ],
   "source": [
    "Be=range(0,m2)\n",
    "for i in range (0,m2):\n",
    "    Be[i]=YJ[i]-Y6e[i]\n",
    "eps=0\n",
    "for j in range (0,len(Be)):\n",
    "    eps=eps+Be[j]\n",
    "eps=eps/len(Be)\n",
    "eps,Be"
   ]
  },
  {
   "cell_type": "markdown",
   "metadata": {},
   "source": [
    "## Comparación con spline cuadrático\n",
    "Se comparan los valores exactos del polinomio de Jacobi con los valores de la interpolación cuadrática con errores aleatorios del 1%y se muestra el valor promediado del error, y el valor del error en cada punto de la malla."
   ]
  },
  {
   "cell_type": "code",
   "execution_count": 43,
   "metadata": {
    "collapsed": false
   },
   "outputs": [
    {
     "data": {
      "text/plain": [
       "(-1.01086196584367,\n",
       " [-0.0638552914231099,\n",
       "  -0.0235244318779735,\n",
       "  -0.0452296873076463,\n",
       "  -0.0175899706206346,\n",
       "  -0.0122802758083496,\n",
       "  -0.0980461794453094,\n",
       "  -0.0617786284070014,\n",
       "  -0.0291972282361721,\n",
       "  -0.00958815857549267,\n",
       "  -0.0724820719340959,\n",
       "  -0.0390960841111854,\n",
       "  -0.0384555563134255,\n",
       "  -0.00400277630689905,\n",
       "  -0.0577422801282617,\n",
       "  -0.0314140225978650,\n",
       "  -0.0485224607249730,\n",
       "  -0.0574918628590426,\n",
       "  -0.00171090679169184,\n",
       "  -0.0713486176215561,\n",
       "  -0.0141567589533838,\n",
       "  -0.00700749016345026,\n",
       "  -0.0507476916002232,\n",
       "  -0.0968912451229252,\n",
       "  -0.0513241652958996,\n",
       "  -0.0192160379457138,\n",
       "  -0.0495846776280163,\n",
       "  -0.0361986501225818,\n",
       "  -0.0663999503569138,\n",
       "  -0.00332270993034067,\n",
       "  -0.00787064102059210,\n",
       "  -0.0904762397756738,\n",
       "  -0.0146597531890558,\n",
       "  -0.0255018432229235,\n",
       "  -0.0466407178869452,\n",
       "  -0.0683677623917118,\n",
       "  -0.0450207677447750,\n",
       "  -0.00115357230132584,\n",
       "  -0.0945189360575069,\n",
       "  -0.0355742632940990,\n",
       "  -0.0595798957505330,\n",
       "  -0.0623843944155515,\n",
       "  -0.00241594645992527,\n",
       "  -0.0239905450447339,\n",
       "  -0.0227036578366138,\n",
       "  -0.0597999241979719,\n",
       "  -0.0116543955945770,\n",
       "  -0.0895054199021385,\n",
       "  -0.0800312938840498,\n",
       "  -0.0511860809507806,\n",
       "  -0.0664507545054133,\n",
       "  -0.00523314565997912,\n",
       "  -0.0347294912085739,\n",
       "  -0.0512585354376471,\n",
       "  -0.0198734501641417,\n",
       "  -0.0348092648519497,\n",
       "  -0.0247220695118369,\n",
       "  -0.0192198995956487,\n",
       "  -0.0314527664654666,\n",
       "  -0.00323453716771771,\n",
       "  -0.0808767052150396,\n",
       "  -0.0203104849539825,\n",
       "  -0.0371548769649512,\n",
       "  -0.0931953103031241,\n",
       "  -0.0524528789450707,\n",
       "  -0.0593127041017674,\n",
       "  -0.0905564541624353,\n",
       "  -0.0291909529831321,\n",
       "  -0.00416607034581373,\n",
       "  -0.0689855304591167,\n",
       "  -0.0215297178796731,\n",
       "  -0.0848135220633903,\n",
       "  -0.0132912790681607,\n",
       "  -0.00205187267337847,\n",
       "  -0.0536198279582777,\n",
       "  -0.0592128651024010,\n",
       "  -0.00422011323312760,\n",
       "  -0.0777317279281284,\n",
       "  -0.0831107588859478,\n",
       "  -0.0446270081983027,\n",
       "  -0.0518902799936024,\n",
       "  -0.0506702148141957,\n",
       "  -0.0150121843110941,\n",
       "  -0.0627861636531229,\n",
       "  -0.0268655552922966,\n",
       "  -0.0656932227033409,\n",
       "  -0.0336903845687607,\n",
       "  -0.0236815381052849,\n",
       "  -0.0595817007010168,\n",
       "  -0.0422653290073172,\n",
       "  -0.0692979193286107,\n",
       "  -0.0696824688194413,\n",
       "  -0.0726214504531008,\n",
       "  -0.0530815646279635,\n",
       "  -0.00282224366749917,\n",
       "  -0.0848999136453145,\n",
       "  -0.0305466325578904,\n",
       "  -0.00933347326306566,\n",
       "  -0.0273438155389617,\n",
       "  -0.0537807963492426,\n",
       "  -0.0870325633477724,\n",
       "  -0.0772993322754795,\n",
       "  -0.0984286218052173,\n",
       "  -0.0211121539449135,\n",
       "  -0.0406345522354261,\n",
       "  -0.0933713736631459,\n",
       "  -0.0280212883046903,\n",
       "  -0.0284138828286874,\n",
       "  -0.0459398475999392,\n",
       "  -0.0613240208458064,\n",
       "  -0.0661172281072482,\n",
       "  -0.0205212566046820,\n",
       "  -0.0960105822515084,\n",
       "  -0.0817154091023922,\n",
       "  -0.0668537077072079,\n",
       "  -0.0431275313415059,\n",
       "  -0.0973987539404810,\n",
       "  -0.0600435932869577,\n",
       "  -0.0281382149131622,\n",
       "  -0.0347879474795290,\n",
       "  -0.0557654951042890,\n",
       "  -0.0102187037798023,\n",
       "  -0.0630586566834433,\n",
       "  -0.0696507045419250,\n",
       "  -0.0526555493656125,\n",
       "  -0.0319233560967623,\n",
       "  -0.0410807657537310,\n",
       "  -0.00725386679635420,\n",
       "  -0.0616268469916967,\n",
       "  -0.0514359817914698,\n",
       "  -0.0510654307387119,\n",
       "  -0.00983613504881498,\n",
       "  -0.0721299491968118,\n",
       "  -0.0811826661657716,\n",
       "  -0.0935728350206523,\n",
       "  -0.0177451425532178,\n",
       "  -0.0824628067660623,\n",
       "  -0.0233089895191805,\n",
       "  -0.0341526646832697,\n",
       "  -0.000579357415624870,\n",
       "  -0.0132723933606869,\n",
       "  -0.0753246361971596,\n",
       "  -0.0400575324345495,\n",
       "  -0.0847672277777518,\n",
       "  -0.00892303171318398,\n",
       "  -0.0795961486303223,\n",
       "  -0.0737077178159341,\n",
       "  -0.0846840202807539,\n",
       "  -0.0208731709864099,\n",
       "  -0.00903877009592835,\n",
       "  -0.0401907982938251,\n",
       "  -0.0841952611727933,\n",
       "  -0.0944740200222761,\n",
       "  -0.0115737547840041,\n",
       "  -0.0947647008540417,\n",
       "  -0.0340919780120438,\n",
       "  -0.0702442690498717,\n",
       "  -0.0361908103509149,\n",
       "  -0.00222047533125347,\n",
       "  -0.0334256471178206,\n",
       "  -0.0962330069854151,\n",
       "  -0.0785674725705716,\n",
       "  -0.0162942712584686,\n",
       "  -0.0932377588507958,\n",
       "  -0.0926967760240419,\n",
       "  -0.0170583255781841,\n",
       "  -0.0600597284696360,\n",
       "  -0.0823754347200257,\n",
       "  -0.0181441133059452,\n",
       "  -0.0916941954437288,\n",
       "  -0.0191005057999991,\n",
       "  -0.0867698105105863,\n",
       "  -0.0975287929465003,\n",
       "  -0.0906212962786724,\n",
       "  -0.0170104182425735,\n",
       "  -0.0758955966281453,\n",
       "  -0.0866244846375763,\n",
       "  -0.0899261331535568,\n",
       "  -0.0492196140541074,\n",
       "  -0.0313850310963750,\n",
       "  -0.0868550636767724,\n",
       "  -0.0978699644641792,\n",
       "  -0.00242678928000362,\n",
       "  -0.0572646941419541,\n",
       "  -0.0110675635929995,\n",
       "  -0.0203012862885572,\n",
       "  -0.0711669981944147,\n",
       "  -0.00552392641886490,\n",
       "  -0.00854765813874514,\n",
       "  -0.0716858648112124,\n",
       "  -0.0865494705402101,\n",
       "  -0.0919544036533102,\n",
       "  -0.00552565439083441,\n",
       "  -0.0453216905343625,\n",
       "  -0.0750757531638193,\n",
       "  -0.0863245837614217,\n",
       "  -0.0744073299666028,\n",
       "  -0.0466495277279133,\n",
       "  -0.0122624617299856,\n",
       "  -0.0906731531353273,\n",
       "  -192.507699088161])"
      ]
     },
     "execution_count": 43,
     "metadata": {},
     "output_type": "execute_result"
    }
   ],
   "source": [
    "BCe=range(0,m2)\n",
    "for i in range (0,m2):\n",
    "    BCe[i]=YJ[i]-Y6Ce[i]\n",
    "eps=0\n",
    "for j in range (0,len(BCe)):\n",
    "    eps=eps+BCe[j]\n",
    "eps=eps/len(BCe)\n",
    "eps,BCe"
   ]
  },
  {
   "cell_type": "markdown",
   "metadata": {
    "collapsed": true
   },
   "source": [
    "# TAREA 2 INTEGRACIÓN"
   ]
  },
  {
   "cell_type": "markdown",
   "metadata": {},
   "source": [
    "### 1.1 Dentro del intervalo de definición de su polinomio calcúleselos valores de los integrales $I_n ^{(m)}=\\int_a^b W(x)P_n(x)P_{n+1}(x)dx$, para n = 1 a 5, m = 0 a 5 usando cuadraturas de Trapecios, de Simpson y de  Gauss con selección de paso de integración automático en la base del algoritmo de Runge."
   ]
  },
  {
   "cell_type": "markdown",
   "metadata": {},
   "source": [
    "### 1.1.1 TRAPECIOS\n",
    "#### Para aproximar el valor de la integral se usará la fórmula $IT=(b-a)\\frac{f(x_0)+2\\sum_{i=1}^{n-1}f(x_i)+f(x_n)}{2n}$ para n+1 nodos equidistantes en el intervalo de $a=-1$ a $b=1$. "
   ]
  },
  {
   "cell_type": "markdown",
   "metadata": {},
   "source": [
    "### se grafícan los polinomios n y n+1 ortogonales en [-1,1]"
   ]
  },
  {
   "cell_type": "code",
   "execution_count": 44,
   "metadata": {
    "collapsed": false
   },
   "outputs": [],
   "source": [
    "mt=8\n",
    "ms=mt\n",
    "YJ1=range(0,len(X2))\n",
    "for i in range (0,len(X2)):\n",
    "    YJ1[i]=JACOBI(mt).subs({x:X2[i]})\n",
    "YJ2=range(0,len(X2))\n",
    "for i in range (0,len(X2)):\n",
    "    YJ2[i]=JACOBI(mt+1).subs({x:X2[i]})"
   ]
  },
  {
   "cell_type": "code",
   "execution_count": null,
   "metadata": {
    "collapsed": false
   },
   "outputs": [],
   "source": []
  },
  {
   "cell_type": "code",
   "execution_count": 45,
   "metadata": {
    "collapsed": false
   },
   "outputs": [
    {
     "data": {
      "image/png": "[encoded data removed]",
      "text/plain": [
       "<matplotlib.figure.Figure at 0xa8bc874c>"
      ]
     },
     "metadata": {},
     "output_type": "display_data"
    }
   ],
   "source": [
    "plt.figure(figsize=(10,5))\n",
    "plt.axis([-1, 1, -5, 5])\n",
    "plt.plot(X2,YJ1,label=\"Polinomio de Jacobi de grado n\")\n",
    "plt.plot(X2,YJ2,\"r\",label=\"Polinomio de Jacobi de grado n+1\")\n",
    "plt.legend(loc='best', frameon=True)\n",
    "plt.show()"
   ]
  },
  {
   "cell_type": "markdown",
   "metadata": {},
   "source": [
    "Se muestra el valor de la integral numérica y el valor exacto que es cero."
   ]
  },
  {
   "cell_type": "code",
   "execution_count": 57,
   "metadata": {
    "collapsed": false
   },
   "outputs": [
    {
     "data": {
      "text/plain": [
       "(-0.125033142028382, 0)"
      ]
     },
     "execution_count": 57,
     "metadata": {},
     "output_type": "execute_result"
    }
   ],
   "source": [
    "m=m2\n",
    "IT = (JACOBI(mt).subs({x:X2[0]})*(JACOBI(mt+1).subs({x:X2[0]}))+(JACOBI(mt).subs({x:X2[m-1]}))*(JACOBI(mt+1).subs({x:X2[m-1]})))*((X2[m-1]-X2[0])/(2*(m-1)))\n",
    "for i in range (1,m-2):\n",
    "    IT = IT + ((JACOBI(mt).subs({x:X2[i]}))*(JACOBI(mt+1).subs({x:X2[i]})))/(m-1)\n",
    "IT,int(IT)"
   ]
  },
  {
   "cell_type": "markdown",
   "metadata": {},
   "source": [
    "### 1.1.2 SIMPSON 1/3\n",
    "#### Para aproximar el valor de la integral se usará la fórmula $IS=(b-a)\\frac{f(x_0)+4\\sum_{i=1,3,5,..}^{n-1}f(x_i)+2\\sum_{j=2,4,6,...}^{n-2}f(x_j)+f(x_n)}{3n}$ para n+1 nodos equidistantes en el intervalo de $a=-1$ a $b=1$. "
   ]
  },
  {
   "cell_type": "markdown",
   "metadata": {},
   "source": [
    "Se muestra el valor de la integral numérica y el valor exacto que es cero."
   ]
  },
  {
   "cell_type": "code",
   "execution_count": 58,
   "metadata": {
    "collapsed": false
   },
   "outputs": [
    {
     "data": {
      "text/plain": [
       "(-0.471690391125250, 0)"
      ]
     },
     "execution_count": 58,
     "metadata": {},
     "output_type": "execute_result"
    }
   ],
   "source": [
    "IS = (JACOBI(ms).subs({x:X2[0]})*JACOBI(ms+1).subs({x:X2[0]})+JACOBI(ms).subs({x:X2[m-1]})*JACOBI(ms+1).subs({x:X2[m-1]}))*((X2[m-1]-X2[0])/(3*(m-1)))\n",
    "for i in range(1,(m-1)/2):\n",
    "    IS = IS + (4*JACOBI(ms).subs({x:X2[2*i-1]})*JACOBI(ms+1).subs({x:X2[2*i-1]}))*((X2[m-1]-X2[0])/(3*(m-1)))\n",
    "for j in range (2,(m-1)/2):\n",
    "    IS = IS + (2*JACOBI(ms).subs({x:X2[2*j-2]})*JACOBI(ms+1).subs({x:X2[2*j-2]}))*((X2[m-1]-X2[0])/(3*(m-1)))\n",
    "IS, int(IS)"
   ]
  },
  {
   "cell_type": "markdown",
   "metadata": {},
   "source": [
    "### 1.1.2 GAUSS"
   ]
  },
  {
   "cell_type": "code",
   "execution_count": null,
   "metadata": {
    "collapsed": false
   },
   "outputs": [],
   "source": []
  },
  {
   "cell_type": "markdown",
   "metadata": {
    "collapsed": true
   },
   "source": [
    "# TAREA 3 SOLUCIÓN DE ECUACIONES TRASCENDENTES"
   ]
  },
  {
   "cell_type": "markdown",
   "metadata": {},
   "source": [
    "### 1.1 Elabórese el algoritmo de separación de ceros de su polinomio Pn (x)"
   ]
  },
  {
   "cell_type": "code",
   "execution_count": null,
   "metadata": {
    "collapsed": true
   },
   "outputs": [],
   "source": []
  }
 ],
 "metadata": {
  "kernelspec": {
   "display_name": "Python 2",
   "language": "python",
   "name": "python2"
  },
  "language_info": {
   "codemirror_mode": {
    "name": "ipython",
    "version": 2
   },
   "file_extension": ".py",
   "mimetype": "text/x-python",
   "name": "python",
   "nbconvert_exporter": "python",
   "pygments_lexer": "ipython2",
   "version": "2.7.11"
  }
 },
 "nbformat": 4,
 "nbformat_minor": 0
}
